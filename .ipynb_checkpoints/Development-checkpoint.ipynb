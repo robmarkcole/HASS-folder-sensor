{
 "cells": [
  {
   "cell_type": "markdown",
   "metadata": {},
   "source": [
    "Development work for the folder sensor"
   ]
  },
  {
   "cell_type": "code",
   "execution_count": 5,
   "metadata": {},
   "outputs": [],
   "source": [
    "from datetime import datetime as dt\n",
    "from datetime import timedelta\n",
    "import glob\n",
    "import os\n",
    "\n",
    "DEFAULT_FILTER = '*'"
   ]
  },
  {
   "cell_type": "code",
   "execution_count": 6,
   "metadata": {},
   "outputs": [],
   "source": [
    "def get_files_list(folder_path, filter_term):\n",
    "    \"\"\"Return the list of files, applying filter.\"\"\"\n",
    "    query = folder_path + filter_term\n",
    "    files_list = glob.glob(query)\n",
    "    return files_list"
   ]
  },
  {
   "cell_type": "code",
   "execution_count": 23,
   "metadata": {},
   "outputs": [],
   "source": [
    "def get_size(files_list):\n",
    "    \"\"\"Return the return sum of the size in bytes of files in the list.\"\"\"\n",
    "    size_list = [os.stat(f).st_size for f in files_list]\n",
    "    return sum(size_list)"
   ]
  },
  {
   "cell_type": "code",
   "execution_count": 27,
   "metadata": {},
   "outputs": [
    {
     "name": "stdout",
     "output_type": "stream",
     "text": [
      "/Users/robincole/Pictures/Leak/\n",
      "Leak\n"
     ]
    }
   ],
   "source": [
    "path = \"/Users/robincole/Pictures/Leak\"\n",
    "path = os.path.join(path, '') \n",
    "print(path)\n",
    "name = os.path.split(os.path.split(path)[0])[1]\n",
    "print(name)"
   ]
  },
  {
   "cell_type": "code",
   "execution_count": 30,
   "metadata": {},
   "outputs": [
    {
     "data": {
      "text/plain": [
       "['/Users/robincole/Pictures/Leak/Arduino-flow.png',\n",
       " '/Users/robincole/Pictures/Leak/leak1.png',\n",
       " '/Users/robincole/Pictures/Leak/water-sensor-micropython.png',\n",
       " '/Users/robincole/Pictures/Leak/IMG_9772.JPG']"
      ]
     },
     "execution_count": 30,
     "metadata": {},
     "output_type": "execute_result"
    }
   ],
   "source": [
    "png_list = get_files_list(path, '*')\n",
    "png_list"
   ]
  },
  {
   "cell_type": "code",
   "execution_count": 32,
   "metadata": {},
   "outputs": [
    {
     "data": {
      "text/plain": [
       "5078407"
      ]
     },
     "execution_count": 32,
     "metadata": {},
     "output_type": "execute_result"
    }
   ],
   "source": [
    "size = get_size(png_list)\n",
    "size"
   ]
  },
  {
   "cell_type": "code",
   "execution_count": 34,
   "metadata": {},
   "outputs": [
    {
     "data": {
      "text/plain": [
       "5.08"
      ]
     },
     "execution_count": 34,
     "metadata": {},
     "output_type": "execute_result"
    }
   ],
   "source": [
    "decimals = 2\n",
    "state_mb = round(size/1e6, decimals)\n",
    "state_mb"
   ]
  },
  {
   "cell_type": "code",
   "execution_count": null,
   "metadata": {},
   "outputs": [],
   "source": []
  }
 ],
 "metadata": {
  "kernelspec": {
   "display_name": "Python 3",
   "language": "python",
   "name": "python3"
  },
  "language_info": {
   "codemirror_mode": {
    "name": "ipython",
    "version": 3
   },
   "file_extension": ".py",
   "mimetype": "text/x-python",
   "name": "python",
   "nbconvert_exporter": "python",
   "pygments_lexer": "ipython3",
   "version": "3.6.3"
  }
 },
 "nbformat": 4,
 "nbformat_minor": 2
}
