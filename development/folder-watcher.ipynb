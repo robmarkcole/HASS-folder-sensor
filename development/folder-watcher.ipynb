{
 "cells": [
  {
   "cell_type": "code",
   "execution_count": 1,
   "metadata": {},
   "outputs": [
    {
     "data": {
      "text/plain": [
       "'/Users/robincole/Documents/Github/HASS-folder-watcher/development'"
      ]
     },
     "execution_count": 1,
     "metadata": {},
     "output_type": "execute_result"
    }
   ],
   "source": [
    "pwd"
   ]
  },
  {
   "cell_type": "code",
   "execution_count": 17,
   "metadata": {},
   "outputs": [],
   "source": [
    "import datetime\n",
    "import os\n",
    "import glob"
   ]
  },
  {
   "cell_type": "code",
   "execution_count": 218,
   "metadata": {},
   "outputs": [
    {
     "data": {
      "text/plain": [
       "True"
      ]
     },
     "execution_count": 218,
     "metadata": {},
     "output_type": "execute_result"
    }
   ],
   "source": [
    "path = '/Users/robincole/Documents/Github/HASS-folder-watcher/development/dummy_folder/'\n",
    "os.path.isdir(path)"
   ]
  },
  {
   "cell_type": "code",
   "execution_count": 221,
   "metadata": {},
   "outputs": [
    {
     "data": {
      "text/plain": [
       "['/Users/robincole/Documents/Github/HASS-folder-watcher/development/dummy_folder/file2.txt',\n",
       " '/Users/robincole/Documents/Github/HASS-folder-watcher/development/dummy_folder/second_dummy',\n",
       " '/Users/robincole/Documents/Github/HASS-folder-watcher/development/dummy_folder/file1.txt',\n",
       " '/Users/robincole/Documents/Github/HASS-folder-watcher/development/dummy_folder/second_dummy/file3.txt']"
      ]
     },
     "execution_count": 221,
     "metadata": {},
     "output_type": "execute_result"
    }
   ],
   "source": [
    "glob.glob(path + '**/' + '*', recursive = True)"
   ]
  },
  {
   "cell_type": "code",
   "execution_count": 40,
   "metadata": {},
   "outputs": [],
   "source": [
    "def get_timestamp(file_path):\n",
    "    \"\"\"Return the timestamp of file.\"\"\"\n",
    "    mtime = os.stat(file_path).st_mtime\n",
    "    return datetime.datetime.fromtimestamp(mtime).isoformat()"
   ]
  },
  {
   "cell_type": "code",
   "execution_count": 88,
   "metadata": {},
   "outputs": [],
   "source": [
    "def get_files_dict(folder_path, filter_term):\n",
    "    \"\"\"Return the dict of file paths and mod times, applying filter.\"\"\"\n",
    "    query = folder_path + filter_term\n",
    "    files_list = glob.glob(query)\n",
    "    files_list = [f for f in files_list if os.path.isfile(f)]\n",
    "    files_dict = {f:get_timestamp(f) for f in files_list}\n",
    "    return files_dict"
   ]
  },
  {
   "cell_type": "code",
   "execution_count": 206,
   "metadata": {},
   "outputs": [],
   "source": [
    "def get_size(files_list):\n",
    "    \"\"\"Return the sum of the size in bytes of files in the list.\"\"\"\n",
    "    size_list = [os.stat(f).st_size for f in files_list]\n",
    "    return sum(size_list)"
   ]
  },
  {
   "cell_type": "markdown",
   "metadata": {},
   "source": [
    "We start with an emptry dictionary, which we populate from the filtered list of path files"
   ]
  },
  {
   "cell_type": "code",
   "execution_count": 120,
   "metadata": {},
   "outputs": [],
   "source": [
    "files_record = {}"
   ]
  },
  {
   "cell_type": "markdown",
   "metadata": {},
   "source": [
    "Now iterate current_files, do comparisons to files_record"
   ]
  },
  {
   "cell_type": "code",
   "execution_count": 213,
   "metadata": {},
   "outputs": [
    {
     "name": "stdout",
     "output_type": "stream",
     "text": [
      "/Users/robincole/Documents/Github/HASS-folder-watcher/development/dummy_folder/file2.txt modified\n"
     ]
    }
   ],
   "source": [
    "current_files = get_files_dict(path, '*')\n",
    "\n",
    "for file_path in set(list(current_files.keys()) + list(files_record.keys())):            \n",
    "    # Logic to process files\n",
    "    if file_path not in files_record:\n",
    "        print(\"{} added\".format(file_path))\n",
    "        files_record[file_path] = current_files[file_path] # Add the entry\n",
    "        \n",
    "    elif file_path not in current_files: # If deleted\n",
    "        print(\"{} deleted\".format(file_path))\n",
    "        files_record.pop(file_path, None)\n",
    "        \n",
    "    elif file_path in files_record and current_files:\n",
    "        if files_record[file_path] != current_files[file_path]: # If in both registers and modified\n",
    "            print(\"{} modified\".format(file_path))\n",
    "            files_record[file_path] = current_files[file_path] # Reassign"
   ]
  },
  {
   "cell_type": "code",
   "execution_count": 214,
   "metadata": {},
   "outputs": [
    {
     "data": {
      "text/plain": [
       "{'/Users/robincole/Documents/Github/HASS-folder-watcher/development/dummy_folder/file1.txt': '2018-02-28T09:05:14.348702',\n",
       " '/Users/robincole/Documents/Github/HASS-folder-watcher/development/dummy_folder/file2.txt': '2018-03-03T14:51:07.442320'}"
      ]
     },
     "execution_count": 214,
     "metadata": {},
     "output_type": "execute_result"
    }
   ],
   "source": [
    "current_files"
   ]
  },
  {
   "cell_type": "code",
   "execution_count": 215,
   "metadata": {},
   "outputs": [
    {
     "data": {
      "text/plain": [
       "{'/Users/robincole/Documents/Github/HASS-folder-watcher/development/dummy_folder/file1.txt': '2018-02-28T09:05:14.348702',\n",
       " '/Users/robincole/Documents/Github/HASS-folder-watcher/development/dummy_folder/file2.txt': '2018-03-03T14:51:07.442320'}"
      ]
     },
     "execution_count": 215,
     "metadata": {},
     "output_type": "execute_result"
    }
   ],
   "source": [
    "files_record"
   ]
  },
  {
   "cell_type": "code",
   "execution_count": 212,
   "metadata": {},
   "outputs": [
    {
     "data": {
      "text/plain": [
       "2"
      ]
     },
     "execution_count": 212,
     "metadata": {},
     "output_type": "execute_result"
    }
   ],
   "source": [
    "len(files_record)"
   ]
  },
  {
   "cell_type": "code",
   "execution_count": 207,
   "metadata": {},
   "outputs": [
    {
     "data": {
      "text/plain": [
       "30"
      ]
     },
     "execution_count": 207,
     "metadata": {},
     "output_type": "execute_result"
    }
   ],
   "source": [
    "get_size(list(files_record.keys()))"
   ]
  },
  {
   "cell_type": "markdown",
   "metadata": {},
   "source": [
    "## Class implementation"
   ]
  },
  {
   "cell_type": "code",
   "execution_count": 15,
   "metadata": {},
   "outputs": [],
   "source": [
    "\"\"\"The dict self._files is updated and events published on changes to the dict.\"\"\"\n",
    "\n",
    "class Watcher():\n",
    "    def __init__(self, path, hass):\n",
    "        self._path = path\n",
    "        self.hass = hass\n",
    "        self._updated = False\n",
    "        self._files = get_files(self._path)\n",
    "\n",
    "    def update(self):\n",
    "        \"\"\"Update the watcher.\"\"\"\n",
    "        current_files = []\n",
    "        previous_files = list(self._files.keys())\n",
    "        \n",
    "        with os.scandir(self._path) as folder:\n",
    "            for entry in folder:\n",
    "                if not entry.name.startswith('.') and entry.is_file(): \n",
    "                    mtime = get_timestamp(entry)\n",
    "                    fname = entry.name\n",
    "                    current_files.append(fname)  # Keep record of current files   \n",
    "            \n",
    "                    if not fname in self._files:\n",
    "                        print(\"{} added\".format(fname))\n",
    "                        # self.hass.bus.fire('file_added', { 'file': fname })\n",
    "                        self._files[fname] = mtime # Add the entry\n",
    "                \n",
    "                    elif fname in self._files and self._files[fname] != mtime: # If exists and modified\n",
    "                        print(\"{} modified\".format(fname))\n",
    "                        # self.hass.bus.fire('file_modified', { 'file': fname })\n",
    "                        self._files[fname] = mtime # Update timestamp\n",
    "\n",
    "            # Check if any files deleted                \n",
    "            for fname in list(set(previous_files) - set(current_files)):\n",
    "                print(\"{} deleted\".format(fname))\n",
    "                # self.hass.bus.fire('file_deleted', { 'file': fname })\n",
    "                self._files.pop(fname, None) # Delete the entry"
   ]
  },
  {
   "cell_type": "code",
   "execution_count": 16,
   "metadata": {},
   "outputs": [],
   "source": [
    "hass = 'hass'\n",
    "my_watcher = Watcher(path, hass)"
   ]
  },
  {
   "cell_type": "code",
   "execution_count": 17,
   "metadata": {},
   "outputs": [],
   "source": [
    "my_watcher.update()"
   ]
  },
  {
   "cell_type": "code",
   "execution_count": 10,
   "metadata": {},
   "outputs": [
    {
     "name": "stdout",
     "output_type": "stream",
     "text": [
      "file2.txt modified\n"
     ]
    }
   ],
   "source": [
    "my_watcher.update()"
   ]
  },
  {
   "cell_type": "code",
   "execution_count": 23,
   "metadata": {},
   "outputs": [
    {
     "name": "stdout",
     "output_type": "stream",
     "text": [
      "file2 copy.txt added\n"
     ]
    }
   ],
   "source": [
    "my_watcher.update()"
   ]
  },
  {
   "cell_type": "code",
   "execution_count": 24,
   "metadata": {},
   "outputs": [
    {
     "name": "stdout",
     "output_type": "stream",
     "text": [
      "file2.txt modified\n",
      "file2 copy.txt deleted\n"
     ]
    }
   ],
   "source": [
    "my_watcher.update()"
   ]
  },
  {
   "cell_type": "code",
   "execution_count": 34,
   "metadata": {},
   "outputs": [],
   "source": [
    "path = '/Users/robincole/.homeassistant/images/'"
   ]
  },
  {
   "cell_type": "code",
   "execution_count": 36,
   "metadata": {},
   "outputs": [
    {
     "data": {
      "text/plain": [
       "'images'"
      ]
     },
     "execution_count": 36,
     "metadata": {},
     "output_type": "execute_result"
    }
   ],
   "source": [
    "os.path.split(os.path.split(path)[0])[1]"
   ]
  },
  {
   "cell_type": "code",
   "execution_count": 27,
   "metadata": {},
   "outputs": [
    {
     "data": {
      "text/plain": [
       "'/Users/robincole/Documents/Github/HASS-folder-watcher/development'"
      ]
     },
     "execution_count": 27,
     "metadata": {},
     "output_type": "execute_result"
    }
   ],
   "source": [
    "pwd"
   ]
  },
  {
   "cell_type": "code",
   "execution_count": null,
   "metadata": {},
   "outputs": [],
   "source": []
  }
 ],
 "metadata": {
  "kernelspec": {
   "display_name": "Python 3",
   "language": "python",
   "name": "python3"
  },
  "language_info": {
   "codemirror_mode": {
    "name": "ipython",
    "version": 3
   },
   "file_extension": ".py",
   "mimetype": "text/x-python",
   "name": "python",
   "nbconvert_exporter": "python",
   "pygments_lexer": "ipython3",
   "version": "3.6.3"
  }
 },
 "nbformat": 4,
 "nbformat_minor": 2
}
