{
 "cells": [
  {
   "cell_type": "markdown",
   "metadata": {},
   "source": [
    "Development work for the folder sensor"
   ]
  },
  {
   "cell_type": "code",
   "execution_count": 36,
   "metadata": {},
   "outputs": [],
   "source": [
    "import datetime\n",
    "from datetime import timedelta\n",
    "import glob\n",
    "import os\n",
    "\n",
    "DEFAULT_FILTER = '*'"
   ]
  },
  {
   "cell_type": "code",
   "execution_count": 37,
   "metadata": {},
   "outputs": [],
   "source": [
    "def get_timestamp(file_path):\n",
    "    \"\"\"Return the timestamp of file.\"\"\"\n",
    "    mtime = os.stat(file_path).st_mtime\n",
    "    return datetime.datetime.fromtimestamp(mtime).isoformat()"
   ]
  },
  {
   "cell_type": "code",
   "execution_count": 38,
   "metadata": {},
   "outputs": [],
   "source": [
    "def get_files_list(folder_path, filter_term):\n",
    "    \"\"\"Return the list of file paths, applying filter.\"\"\"\n",
    "    query = folder_path + filter_term\n",
    "    files_list = glob.glob(query)\n",
    "    files_list = [f for f in files_list if os.path.isfile(f)]\n",
    "    return files_list"
   ]
  },
  {
   "cell_type": "code",
   "execution_count": 47,
   "metadata": {},
   "outputs": [],
   "source": [
    "def get_files_dict(files_list):\n",
    "    \"\"\"Return the dict of file names and timestamps.\"\"\"\n",
    "    files = {}\n",
    "    for file_path in files_list:\n",
    "            files[os.path.split(file_path)[-1]] = get_timestamp(file_path)\n",
    "    return files"
   ]
  },
  {
   "cell_type": "code",
   "execution_count": 48,
   "metadata": {},
   "outputs": [],
   "source": [
    "def get_size(files_list):\n",
    "    \"\"\"Return the return sum of the size in bytes of files in the list.\"\"\"\n",
    "    size_list = [os.stat(f).st_size for f in files_list]\n",
    "    return sum(size_list)"
   ]
  },
  {
   "cell_type": "code",
   "execution_count": 49,
   "metadata": {},
   "outputs": [
    {
     "name": "stdout",
     "output_type": "stream",
     "text": [
      "/Users/robincole/Pictures/Leak/\n",
      "Leak\n"
     ]
    }
   ],
   "source": [
    "path = \"/Users/robincole/Pictures/Leak\"\n",
    "path = os.path.join(path, '') \n",
    "print(path)\n",
    "name = os.path.split(os.path.split(path)[0])[1]\n",
    "print(name)"
   ]
  },
  {
   "cell_type": "code",
   "execution_count": 50,
   "metadata": {},
   "outputs": [
    {
     "data": {
      "text/plain": [
       "['/Users/robincole/Pictures/Leak/Arduino-flow.png',\n",
       " '/Users/robincole/Pictures/Leak/leak1.png',\n",
       " '/Users/robincole/Pictures/Leak/water-sensor-micropython.png']"
      ]
     },
     "execution_count": 50,
     "metadata": {},
     "output_type": "execute_result"
    }
   ],
   "source": [
    "png_list = get_files_list(path, '*png')\n",
    "png_list"
   ]
  },
  {
   "cell_type": "code",
   "execution_count": 51,
   "metadata": {},
   "outputs": [
    {
     "data": {
      "text/plain": [
       "3204448"
      ]
     },
     "execution_count": 51,
     "metadata": {},
     "output_type": "execute_result"
    }
   ],
   "source": [
    "size = get_size(png_list)\n",
    "size"
   ]
  },
  {
   "cell_type": "code",
   "execution_count": 52,
   "metadata": {},
   "outputs": [
    {
     "data": {
      "text/plain": [
       "3.2"
      ]
     },
     "execution_count": 52,
     "metadata": {},
     "output_type": "execute_result"
    }
   ],
   "source": [
    "decimals = 2\n",
    "state_mb = round(size/1e6, decimals)\n",
    "state_mb"
   ]
  },
  {
   "cell_type": "code",
   "execution_count": 53,
   "metadata": {},
   "outputs": [
    {
     "data": {
      "text/plain": [
       "3"
      ]
     },
     "execution_count": 53,
     "metadata": {},
     "output_type": "execute_result"
    }
   ],
   "source": [
    "len(png_list)"
   ]
  },
  {
   "cell_type": "code",
   "execution_count": 54,
   "metadata": {},
   "outputs": [
    {
     "data": {
      "text/plain": [
       "{'Arduino-flow.png': '2017-11-26T07:49:29.174236',\n",
       " 'leak1.png': '2017-11-26T07:48:59.383314',\n",
       " 'water-sensor-micropython.png': '2017-12-15T10:40:25.921276'}"
      ]
     },
     "execution_count": 54,
     "metadata": {},
     "output_type": "execute_result"
    }
   ],
   "source": [
    "png_dict = get_files_dict(png_list)\n",
    "png_dict"
   ]
  },
  {
   "cell_type": "code",
   "execution_count": null,
   "metadata": {},
   "outputs": [],
   "source": []
  }
 ],
 "metadata": {
  "kernelspec": {
   "display_name": "Python 3",
   "language": "python",
   "name": "python3"
  },
  "language_info": {
   "codemirror_mode": {
    "name": "ipython",
    "version": 3
   },
   "file_extension": ".py",
   "mimetype": "text/x-python",
   "name": "python",
   "nbconvert_exporter": "python",
   "pygments_lexer": "ipython3",
   "version": "3.6.3"
  }
 },
 "nbformat": 4,
 "nbformat_minor": 2
}
